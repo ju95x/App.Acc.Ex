{
 "cells": [
  {
   "cell_type": "code",
   "execution_count": 1,
   "metadata": {},
   "outputs": [],
   "source": [
    "#particle  class definition"
   ]
  },
  {
   "cell_type": "code",
   "execution_count": 38,
   "metadata": {},
   "outputs": [],
   "source": [
    "class Particle():\n",
    "    def __init__(self,Z,A):\n",
    "        self.charge = Z\n",
    "        self.mass = A\n",
    "        self.neutrons=self.mass - self.charge\n",
    "        pass\n",
    "    \n",
    "    #def neutrons(self,neutrons):\n",
    "        #return self.mass-self.charge\n",
    "        #print(self.mass-self.charge)\n",
    "        #return self.neutrons\n",
    "        \n",
    "        \n",
    "deuterium=Particle(1,2)\n",
    "hydrogen=Particle(1,1)\n",
    "tritium=Particle(1,3)"
   ]
  },
  {
   "cell_type": "code",
   "execution_count": 40,
   "metadata": {},
   "outputs": [
    {
     "name": "stdout",
     "output_type": "stream",
     "text": [
      "2\n"
     ]
    }
   ],
   "source": [
    "deuterium.charge\n",
    "deuterium.mass\n",
    "print(tritium.neutrons)"
   ]
  }
 ],
 "metadata": {
  "kernelspec": {
   "display_name": "Python 3",
   "language": "python",
   "name": "python3"
  },
  "language_info": {
   "codemirror_mode": {
    "name": "ipython",
    "version": 3
   },
   "file_extension": ".py",
   "mimetype": "text/x-python",
   "name": "python",
   "nbconvert_exporter": "python",
   "pygments_lexer": "ipython3",
   "version": "3.8.3"
  }
 },
 "nbformat": 4,
 "nbformat_minor": 4
}
