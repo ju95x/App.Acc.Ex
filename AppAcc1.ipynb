{
 "cells": [
  {
   "cell_type": "markdown",
   "metadata": {},
   "source": [
    "# Ex 1/3"
   ]
  },
  {
   "cell_type": "code",
   "execution_count": 3,
   "metadata": {},
   "outputs": [],
   "source": [
    "import numpy as np"
   ]
  },
  {
   "cell_type": "code",
   "execution_count": 7,
   "metadata": {},
   "outputs": [],
   "source": [
    "def MultiMat (Mat1,Mat2):\n",
    "    \n",
    "    Mat3=Mat1*Mat2 #that simple or is there anything else we're supposed to do here?\n",
    "    \n",
    "    return (Mat3)"
   ]
  },
  {
   "cell_type": "code",
   "execution_count": 16,
   "metadata": {},
   "outputs": [
    {
     "name": "stdout",
     "output_type": "stream",
     "text": [
      "[[0.25121578 0.70909042 0.03806506]\n",
      " [0.181885   0.80006486 0.31013526]\n",
      " [0.28729442 0.17313728 0.01115979]]\n"
     ]
    }
   ],
   "source": [
    "RND1 = np.random.rand(3,3)\n",
    "RND2 = np.random.rand(3,3)\n",
    "\n",
    "Sol = MultiMat(RND1,RND2)\n",
    "\n",
    "#print(RND1)\n",
    "#print(RND2)\n",
    "print(Sol)\n"
   ]
  }
 ],
 "metadata": {
  "kernelspec": {
   "display_name": "Python 3",
   "language": "python",
   "name": "python3"
  },
  "language_info": {
   "codemirror_mode": {
    "name": "ipython",
    "version": 3
   },
   "file_extension": ".py",
   "mimetype": "text/x-python",
   "name": "python",
   "nbconvert_exporter": "python",
   "pygments_lexer": "ipython3",
   "version": "3.8.3"
  }
 },
 "nbformat": 4,
 "nbformat_minor": 4
}
